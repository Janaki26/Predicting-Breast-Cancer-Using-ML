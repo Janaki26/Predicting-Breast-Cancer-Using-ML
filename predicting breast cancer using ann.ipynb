{
  "nbformat": 4,
  "nbformat_minor": 0,
  "metadata": {
    "colab": {
      "provenance": [],
      "authorship_tag": "ABX9TyNl69gAu1PEpf4zH6jLXrjf",
      "include_colab_link": true
    },
    "kernelspec": {
      "name": "python3",
      "display_name": "Python 3"
    },
    "language_info": {
      "name": "python"
    }
  },
  "cells": [
    {
      "cell_type": "markdown",
      "metadata": {
        "id": "view-in-github",
        "colab_type": "text"
      },
      "source": [
        "<a href=\"https://colab.research.google.com/github/Janaki26/Predicting-Breast-Cancer-Using-ML/blob/main/predicting%20breast%20cancer%20using%20ann.ipynb\" target=\"_parent\"><img src=\"https://colab.research.google.com/assets/colab-badge.svg\" alt=\"Open In Colab\"/></a>"
      ]
    },
    {
      "cell_type": "code",
      "source": [
        "! pip install kaggle\n"
      ],
      "metadata": {
        "colab": {
          "base_uri": "https://localhost:8080/"
        },
        "id": "uONhncPyXVsF",
        "outputId": "6b6c1dce-b9d0-4b85-a5ea-5fe8d1654846"
      },
      "execution_count": null,
      "outputs": [
        {
          "output_type": "stream",
          "name": "stdout",
          "text": [
            "Requirement already satisfied: kaggle in /usr/local/lib/python3.7/dist-packages (1.5.12)\n",
            "Requirement already satisfied: urllib3 in /usr/local/lib/python3.7/dist-packages (from kaggle) (1.24.3)\n",
            "Requirement already satisfied: requests in /usr/local/lib/python3.7/dist-packages (from kaggle) (2.23.0)\n",
            "Requirement already satisfied: tqdm in /usr/local/lib/python3.7/dist-packages (from kaggle) (4.64.0)\n",
            "Requirement already satisfied: python-dateutil in /usr/local/lib/python3.7/dist-packages (from kaggle) (2.8.2)\n",
            "Requirement already satisfied: python-slugify in /usr/local/lib/python3.7/dist-packages (from kaggle) (6.1.1)\n",
            "Requirement already satisfied: certifi in /usr/local/lib/python3.7/dist-packages (from kaggle) (2021.10.8)\n",
            "Requirement already satisfied: six>=1.10 in /usr/local/lib/python3.7/dist-packages (from kaggle) (1.15.0)\n",
            "Requirement already satisfied: text-unidecode>=1.3 in /usr/local/lib/python3.7/dist-packages (from python-slugify->kaggle) (1.3)\n",
            "Requirement already satisfied: chardet<4,>=3.0.2 in /usr/local/lib/python3.7/dist-packages (from requests->kaggle) (3.0.4)\n",
            "Requirement already satisfied: idna<3,>=2.5 in /usr/local/lib/python3.7/dist-packages (from requests->kaggle) (2.10)\n"
          ]
        }
      ]
    },
    {
      "cell_type": "code",
      "source": [
        "! mkdir ~/.kaggle"
      ],
      "metadata": {
        "id": "9jmCcX-RXYju"
      },
      "execution_count": null,
      "outputs": []
    },
    {
      "cell_type": "code",
      "source": [
        "! cp kaggle.json ~/.kaggle/"
      ],
      "metadata": {
        "id": "DGGTRFB4XcyF"
      },
      "execution_count": null,
      "outputs": []
    },
    {
      "cell_type": "code",
      "source": [
        "! chmod 600 ~/.kaggle/kaggle.json"
      ],
      "metadata": {
        "id": "iaqwuljIXgDz"
      },
      "execution_count": null,
      "outputs": []
    },
    {
      "cell_type": "code",
      "source": [
        "! kaggle datasets download Breast Cancer Wisconsin (Diagnostic) Data Set"
      ],
      "metadata": {
        "colab": {
          "base_uri": "https://localhost:8080/"
        },
        "id": "WROgYZyVXkgq",
        "outputId": "c08a1d86-8880-42e4-a739-411234bebe5b"
      },
      "execution_count": null,
      "outputs": [
        {
          "output_type": "stream",
          "name": "stdout",
          "text": [
            "/bin/bash: -c: line 0: syntax error near unexpected token `('\n",
            "/bin/bash: -c: line 0: ` kaggle datasets download Breast Cancer Wisconsin (Diagnostic) Data Set'\n"
          ]
        }
      ]
    },
    {
      "cell_type": "code",
      "source": [
        "import pandas as pd\n",
        "import numpy as np"
      ],
      "metadata": {
        "id": "Tuo5JPdNX_up"
      },
      "execution_count": null,
      "outputs": []
    },
    {
      "cell_type": "code",
      "source": [
        "df=pd.read_csv('/content/archive (2).zip')"
      ],
      "metadata": {
        "id": "2cOdFQHyZSkD"
      },
      "execution_count": null,
      "outputs": []
    },
    {
      "cell_type": "code",
      "source": [
        "df.head()"
      ],
      "metadata": {
        "id": "TrWXCyxgZZBd"
      },
      "execution_count": null,
      "outputs": []
    },
    {
      "cell_type": "code",
      "source": [
        "df.isna().sum()"
      ],
      "metadata": {
        "id": "nby7CbFEZcUv"
      },
      "execution_count": null,
      "outputs": []
    },
    {
      "cell_type": "code",
      "source": [
        "df.drop('Unnamed: 32', axis = 1, inplace = True)\n",
        "df.drop('id',axis=1,inplace=True)"
      ],
      "metadata": {
        "id": "DTLk3WCRZoRl"
      },
      "execution_count": null,
      "outputs": []
    },
    {
      "cell_type": "code",
      "source": [
        "df.head()"
      ],
      "metadata": {
        "id": "DzGKtVjUaFEL"
      },
      "execution_count": null,
      "outputs": []
    },
    {
      "cell_type": "code",
      "source": [
        "df['diagnosis'] = df['diagnosis'].apply(lambda val: 1 if val == 'M' else 0)"
      ],
      "metadata": {
        "id": "aRUP_fEYaK3o"
      },
      "execution_count": null,
      "outputs": []
    },
    {
      "cell_type": "code",
      "source": [
        "df.head()"
      ],
      "metadata": {
        "id": "1kWweePgaVpV"
      },
      "execution_count": null,
      "outputs": []
    },
    {
      "cell_type": "code",
      "source": [
        "X = df.drop('diagnosis', axis = 1)\n",
        "Y = df['diagnosis']"
      ],
      "metadata": {
        "id": "Z_r7f9G-aYvW"
      },
      "execution_count": null,
      "outputs": []
    },
    {
      "cell_type": "code",
      "source": [
        "from sklearn.model_selection import train_test_split\n",
        "X_train, X_test, Y_train, Y_test = train_test_split(X, Y, test_size = 0.20, random_state = 0)\n",
        "print(len(X_train))\n",
        "print(len(X_test))\n",
        "print(len(Y_train))\n",
        "print(len(Y_test))"
      ],
      "metadata": {
        "id": "_l-A8Ktxcg2B"
      },
      "execution_count": null,
      "outputs": []
    },
    {
      "cell_type": "code",
      "source": [
        "from sklearn.preprocessing import StandardScaler\n",
        "\n",
        "scaler = StandardScaler()\n",
        "\n",
        "X_train = scaler.fit_transform(X_train)\n",
        "X_test = scaler.transform(X_test)"
      ],
      "metadata": {
        "id": "yswy1VkPdM5m"
      },
      "execution_count": null,
      "outputs": []
    },
    {
      "cell_type": "code",
      "source": [
        "df.head()"
      ],
      "metadata": {
        "id": "SQYVp0wHdOsO"
      },
      "execution_count": null,
      "outputs": []
    },
    {
      "cell_type": "code",
      "source": [
        "import tensorflow as tf\n",
        "from tensorflow import keras\n",
        "from keras.models import Sequential\n",
        "from keras.layers import Dense,Flatten\n",
        "# from keras.layers import relu,softmax\n",
        "from keras.layers import Dropout\n",
        "#from kerastuner.tuners import RandomSearch"
      ],
      "metadata": {
        "id": "RmOtIXHrcJ3P"
      },
      "execution_count": null,
      "outputs": []
    },
    {
      "cell_type": "code",
      "source": [
        "! pip install -q -U keras-tuner"
      ],
      "metadata": {
        "id": "OtKElZyHvsO2",
        "colab": {
          "base_uri": "https://localhost:8080/"
        },
        "outputId": "846bca08-f779-45fd-b929-034f78bcc2fb"
      },
      "execution_count": null,
      "outputs": [
        {
          "output_type": "stream",
          "name": "stdout",
          "text": [
            "\u001b[?25l\r\u001b[K     |██▌                             | 10 kB 24.7 MB/s eta 0:00:01\r\u001b[K     |█████                           | 20 kB 32.0 MB/s eta 0:00:01\r\u001b[K     |███████▍                        | 30 kB 35.4 MB/s eta 0:00:01\r\u001b[K     |█████████▉                      | 40 kB 35.8 MB/s eta 0:00:01\r\u001b[K     |████████████▎                   | 51 kB 25.0 MB/s eta 0:00:01\r\u001b[K     |██████████████▊                 | 61 kB 27.8 MB/s eta 0:00:01\r\u001b[K     |█████████████████▏              | 71 kB 30.0 MB/s eta 0:00:01\r\u001b[K     |███████████████████▋            | 81 kB 31.1 MB/s eta 0:00:01\r\u001b[K     |██████████████████████          | 92 kB 33.4 MB/s eta 0:00:01\r\u001b[K     |████████████████████████▌       | 102 kB 32.4 MB/s eta 0:00:01\r\u001b[K     |███████████████████████████     | 112 kB 32.4 MB/s eta 0:00:01\r\u001b[K     |█████████████████████████████▍  | 122 kB 32.4 MB/s eta 0:00:01\r\u001b[K     |███████████████████████████████▉| 133 kB 32.4 MB/s eta 0:00:01\r\u001b[K     |████████████████████████████████| 133 kB 32.4 MB/s \n",
            "\u001b[?25h"
          ]
        }
      ]
    },
    {
      "cell_type": "code",
      "source": [
        "from keras_tuner.tuners import RandomSearch"
      ],
      "metadata": {
        "id": "fd5PlOn9vwin"
      },
      "execution_count": null,
      "outputs": []
    },
    {
      "cell_type": "code",
      "source": [
        "from keras.layers.core.activation import Activation\n",
        "# now we have create a nueural network\n",
        "\n",
        "model=Sequential() #using this function all the layers are connected in a sequence\n",
        "\n",
        "# create a input layer and hidden layer\n",
        "\n",
        "model.add(keras.layers.Dense(10,kernel_initializer=\"he_uniform\",activation='relu',input_dim=30))\n",
        "\n",
        "#2nd hidden layer\n",
        "\n",
        "model.add(keras.layers.Dense(10,kernel_initializer=\"he_uniform\",activation='relu'))\n",
        "\n",
        "#output layer\n",
        "\n",
        "model.add(keras.layers.Dense(2,kernel_initializer=\"glorot_uniform\",activation='sigmoid'))\n",
        "\n",
        "#compiling Ann\n",
        "\n",
        "model.compile(optimizer='Adam',loss = tf.keras.losses.SparseCategoricalCrossentropy(from_logits=True),metrics=['accuracy'])\n",
        "\n",
        "#fitting Ann to training set\n",
        "\n",
        "model_history=model.fit(X_train,Y_train,validation_split=0.20,batch_size=10,epochs=100)"
      ],
      "metadata": {
        "colab": {
          "base_uri": "https://localhost:8080/"
        },
        "id": "pLK7FGE4wAoW",
        "outputId": "44148f8e-c137-4461-a96a-80ab5a146ac0"
      },
      "execution_count": null,
      "outputs": [
        {
          "output_type": "stream",
          "name": "stdout",
          "text": [
            "Epoch 1/100\n"
          ]
        },
        {
          "output_type": "stream",
          "name": "stderr",
          "text": [
            "/usr/local/lib/python3.7/dist-packages/tensorflow/python/util/dispatch.py:1082: UserWarning: \"`sparse_categorical_crossentropy` received `from_logits=True`, but the `output` argument was produced by a sigmoid or softmax activation and thus does not represent logits. Was this intended?\"\n",
            "  return dispatch_target(*args, **kwargs)\n"
          ]
        },
        {
          "output_type": "stream",
          "name": "stdout",
          "text": [
            "37/37 [==============================] - 1s 7ms/step - loss: 0.6506 - accuracy: 0.7665 - val_loss: 0.5474 - val_accuracy: 0.8462\n",
            "Epoch 2/100\n",
            "37/37 [==============================] - 0s 3ms/step - loss: 0.4137 - accuracy: 0.8681 - val_loss: 0.3340 - val_accuracy: 0.9341\n",
            "Epoch 3/100\n",
            "37/37 [==============================] - 0s 3ms/step - loss: 0.2671 - accuracy: 0.9121 - val_loss: 0.2179 - val_accuracy: 0.9341\n",
            "Epoch 4/100\n",
            "37/37 [==============================] - 0s 4ms/step - loss: 0.1918 - accuracy: 0.9505 - val_loss: 0.1590 - val_accuracy: 0.9560\n",
            "Epoch 5/100\n",
            "37/37 [==============================] - 0s 3ms/step - loss: 0.1539 - accuracy: 0.9615 - val_loss: 0.1296 - val_accuracy: 0.9670\n",
            "Epoch 6/100\n",
            "37/37 [==============================] - 0s 3ms/step - loss: 0.1303 - accuracy: 0.9643 - val_loss: 0.1129 - val_accuracy: 0.9560\n",
            "Epoch 7/100\n",
            "37/37 [==============================] - 0s 3ms/step - loss: 0.1163 - accuracy: 0.9670 - val_loss: 0.1011 - val_accuracy: 0.9670\n",
            "Epoch 8/100\n",
            "37/37 [==============================] - 0s 3ms/step - loss: 0.1055 - accuracy: 0.9670 - val_loss: 0.0928 - val_accuracy: 0.9670\n",
            "Epoch 9/100\n",
            "37/37 [==============================] - 0s 4ms/step - loss: 0.0975 - accuracy: 0.9698 - val_loss: 0.0889 - val_accuracy: 0.9780\n",
            "Epoch 10/100\n",
            "37/37 [==============================] - 0s 3ms/step - loss: 0.0912 - accuracy: 0.9698 - val_loss: 0.0833 - val_accuracy: 0.9780\n",
            "Epoch 11/100\n",
            "37/37 [==============================] - 0s 3ms/step - loss: 0.0856 - accuracy: 0.9725 - val_loss: 0.0806 - val_accuracy: 0.9780\n",
            "Epoch 12/100\n",
            "37/37 [==============================] - 0s 3ms/step - loss: 0.0799 - accuracy: 0.9753 - val_loss: 0.0781 - val_accuracy: 0.9780\n",
            "Epoch 13/100\n",
            "37/37 [==============================] - 0s 3ms/step - loss: 0.0758 - accuracy: 0.9808 - val_loss: 0.0760 - val_accuracy: 0.9780\n",
            "Epoch 14/100\n",
            "37/37 [==============================] - 0s 3ms/step - loss: 0.0704 - accuracy: 0.9863 - val_loss: 0.0732 - val_accuracy: 0.9780\n",
            "Epoch 15/100\n",
            "37/37 [==============================] - 0s 3ms/step - loss: 0.0667 - accuracy: 0.9863 - val_loss: 0.0715 - val_accuracy: 0.9780\n",
            "Epoch 16/100\n",
            "37/37 [==============================] - 0s 3ms/step - loss: 0.0627 - accuracy: 0.9863 - val_loss: 0.0710 - val_accuracy: 0.9780\n",
            "Epoch 17/100\n",
            "37/37 [==============================] - 0s 3ms/step - loss: 0.0592 - accuracy: 0.9863 - val_loss: 0.0699 - val_accuracy: 0.9780\n",
            "Epoch 18/100\n",
            "37/37 [==============================] - 0s 3ms/step - loss: 0.0571 - accuracy: 0.9863 - val_loss: 0.0692 - val_accuracy: 0.9780\n",
            "Epoch 19/100\n",
            "37/37 [==============================] - 0s 4ms/step - loss: 0.0537 - accuracy: 0.9863 - val_loss: 0.0678 - val_accuracy: 0.9780\n",
            "Epoch 20/100\n",
            "37/37 [==============================] - 0s 3ms/step - loss: 0.0506 - accuracy: 0.9863 - val_loss: 0.0683 - val_accuracy: 0.9780\n",
            "Epoch 21/100\n",
            "37/37 [==============================] - 0s 3ms/step - loss: 0.0481 - accuracy: 0.9863 - val_loss: 0.0665 - val_accuracy: 0.9780\n",
            "Epoch 22/100\n",
            "37/37 [==============================] - 0s 3ms/step - loss: 0.0455 - accuracy: 0.9863 - val_loss: 0.0676 - val_accuracy: 0.9780\n",
            "Epoch 23/100\n",
            "37/37 [==============================] - 0s 3ms/step - loss: 0.0432 - accuracy: 0.9863 - val_loss: 0.0683 - val_accuracy: 0.9780\n",
            "Epoch 24/100\n",
            "37/37 [==============================] - 0s 3ms/step - loss: 0.0412 - accuracy: 0.9863 - val_loss: 0.0678 - val_accuracy: 0.9780\n",
            "Epoch 25/100\n",
            "37/37 [==============================] - 0s 3ms/step - loss: 0.0386 - accuracy: 0.9890 - val_loss: 0.0672 - val_accuracy: 0.9780\n",
            "Epoch 26/100\n",
            "37/37 [==============================] - 0s 3ms/step - loss: 0.0368 - accuracy: 0.9890 - val_loss: 0.0667 - val_accuracy: 0.9780\n",
            "Epoch 27/100\n",
            "37/37 [==============================] - 0s 3ms/step - loss: 0.0349 - accuracy: 0.9918 - val_loss: 0.0678 - val_accuracy: 0.9780\n",
            "Epoch 28/100\n",
            "37/37 [==============================] - 0s 4ms/step - loss: 0.0341 - accuracy: 0.9918 - val_loss: 0.0667 - val_accuracy: 0.9780\n",
            "Epoch 29/100\n",
            "37/37 [==============================] - 0s 3ms/step - loss: 0.0322 - accuracy: 0.9918 - val_loss: 0.0665 - val_accuracy: 0.9780\n",
            "Epoch 30/100\n",
            "37/37 [==============================] - 0s 3ms/step - loss: 0.0311 - accuracy: 0.9918 - val_loss: 0.0665 - val_accuracy: 0.9780\n",
            "Epoch 31/100\n",
            "37/37 [==============================] - 0s 3ms/step - loss: 0.0297 - accuracy: 0.9918 - val_loss: 0.0664 - val_accuracy: 0.9780\n",
            "Epoch 32/100\n",
            "37/37 [==============================] - 0s 3ms/step - loss: 0.0289 - accuracy: 0.9918 - val_loss: 0.0675 - val_accuracy: 0.9780\n",
            "Epoch 33/100\n",
            "37/37 [==============================] - 0s 3ms/step - loss: 0.0270 - accuracy: 0.9945 - val_loss: 0.0642 - val_accuracy: 0.9780\n",
            "Epoch 34/100\n",
            "37/37 [==============================] - 0s 3ms/step - loss: 0.0273 - accuracy: 0.9945 - val_loss: 0.0654 - val_accuracy: 0.9780\n",
            "Epoch 35/100\n",
            "37/37 [==============================] - 0s 3ms/step - loss: 0.0258 - accuracy: 0.9945 - val_loss: 0.0668 - val_accuracy: 0.9780\n",
            "Epoch 36/100\n",
            "37/37 [==============================] - 0s 4ms/step - loss: 0.0252 - accuracy: 0.9945 - val_loss: 0.0682 - val_accuracy: 0.9780\n",
            "Epoch 37/100\n",
            "37/37 [==============================] - 0s 3ms/step - loss: 0.0236 - accuracy: 0.9945 - val_loss: 0.0694 - val_accuracy: 0.9780\n",
            "Epoch 38/100\n",
            "37/37 [==============================] - 0s 3ms/step - loss: 0.0229 - accuracy: 0.9945 - val_loss: 0.0691 - val_accuracy: 0.9780\n",
            "Epoch 39/100\n",
            "37/37 [==============================] - 0s 3ms/step - loss: 0.0223 - accuracy: 0.9945 - val_loss: 0.0669 - val_accuracy: 0.9780\n",
            "Epoch 40/100\n",
            "37/37 [==============================] - 0s 3ms/step - loss: 0.0216 - accuracy: 0.9945 - val_loss: 0.0710 - val_accuracy: 0.9780\n",
            "Epoch 41/100\n",
            "37/37 [==============================] - 0s 3ms/step - loss: 0.0211 - accuracy: 0.9945 - val_loss: 0.0692 - val_accuracy: 0.9780\n",
            "Epoch 42/100\n",
            "37/37 [==============================] - 0s 3ms/step - loss: 0.0203 - accuracy: 0.9945 - val_loss: 0.0688 - val_accuracy: 0.9780\n",
            "Epoch 43/100\n",
            "37/37 [==============================] - 0s 3ms/step - loss: 0.0194 - accuracy: 0.9945 - val_loss: 0.0688 - val_accuracy: 0.9780\n",
            "Epoch 44/100\n",
            "37/37 [==============================] - 0s 3ms/step - loss: 0.0182 - accuracy: 0.9945 - val_loss: 0.0680 - val_accuracy: 0.9780\n",
            "Epoch 45/100\n",
            "37/37 [==============================] - 0s 3ms/step - loss: 0.0174 - accuracy: 0.9945 - val_loss: 0.0689 - val_accuracy: 0.9780\n",
            "Epoch 46/100\n",
            "37/37 [==============================] - 0s 3ms/step - loss: 0.0170 - accuracy: 0.9973 - val_loss: 0.0704 - val_accuracy: 0.9780\n",
            "Epoch 47/100\n",
            "37/37 [==============================] - 0s 3ms/step - loss: 0.0165 - accuracy: 0.9973 - val_loss: 0.0698 - val_accuracy: 0.9780\n",
            "Epoch 48/100\n",
            "37/37 [==============================] - 0s 3ms/step - loss: 0.0177 - accuracy: 0.9945 - val_loss: 0.0685 - val_accuracy: 0.9780\n",
            "Epoch 49/100\n",
            "37/37 [==============================] - 0s 3ms/step - loss: 0.0151 - accuracy: 0.9973 - val_loss: 0.0711 - val_accuracy: 0.9780\n",
            "Epoch 50/100\n",
            "37/37 [==============================] - 0s 3ms/step - loss: 0.0152 - accuracy: 0.9945 - val_loss: 0.0703 - val_accuracy: 0.9780\n",
            "Epoch 51/100\n",
            "37/37 [==============================] - 0s 3ms/step - loss: 0.0144 - accuracy: 0.9973 - val_loss: 0.0717 - val_accuracy: 0.9780\n",
            "Epoch 52/100\n",
            "37/37 [==============================] - 0s 3ms/step - loss: 0.0138 - accuracy: 0.9973 - val_loss: 0.0718 - val_accuracy: 0.9780\n",
            "Epoch 53/100\n",
            "37/37 [==============================] - 0s 3ms/step - loss: 0.0132 - accuracy: 0.9973 - val_loss: 0.0722 - val_accuracy: 0.9780\n",
            "Epoch 54/100\n",
            "37/37 [==============================] - 0s 3ms/step - loss: 0.0128 - accuracy: 0.9973 - val_loss: 0.0733 - val_accuracy: 0.9780\n",
            "Epoch 55/100\n",
            "37/37 [==============================] - 0s 3ms/step - loss: 0.0125 - accuracy: 0.9973 - val_loss: 0.0735 - val_accuracy: 0.9780\n",
            "Epoch 56/100\n",
            "37/37 [==============================] - 0s 3ms/step - loss: 0.0124 - accuracy: 0.9945 - val_loss: 0.0739 - val_accuracy: 0.9780\n",
            "Epoch 57/100\n",
            "37/37 [==============================] - 0s 3ms/step - loss: 0.0120 - accuracy: 0.9973 - val_loss: 0.0744 - val_accuracy: 0.9780\n",
            "Epoch 58/100\n",
            "37/37 [==============================] - 0s 3ms/step - loss: 0.0118 - accuracy: 0.9973 - val_loss: 0.0724 - val_accuracy: 0.9780\n",
            "Epoch 59/100\n",
            "37/37 [==============================] - 0s 3ms/step - loss: 0.0112 - accuracy: 0.9973 - val_loss: 0.0749 - val_accuracy: 0.9780\n",
            "Epoch 60/100\n",
            "37/37 [==============================] - 0s 3ms/step - loss: 0.0107 - accuracy: 0.9945 - val_loss: 0.0749 - val_accuracy: 0.9780\n",
            "Epoch 61/100\n",
            "37/37 [==============================] - 0s 4ms/step - loss: 0.0105 - accuracy: 0.9973 - val_loss: 0.0739 - val_accuracy: 0.9780\n",
            "Epoch 62/100\n",
            "37/37 [==============================] - 0s 3ms/step - loss: 0.0106 - accuracy: 0.9973 - val_loss: 0.0744 - val_accuracy: 0.9780\n",
            "Epoch 63/100\n",
            "37/37 [==============================] - 0s 3ms/step - loss: 0.0104 - accuracy: 0.9973 - val_loss: 0.0754 - val_accuracy: 0.9780\n",
            "Epoch 64/100\n",
            "37/37 [==============================] - 0s 3ms/step - loss: 0.0092 - accuracy: 0.9973 - val_loss: 0.0755 - val_accuracy: 0.9780\n",
            "Epoch 65/100\n",
            "37/37 [==============================] - 0s 3ms/step - loss: 0.0095 - accuracy: 0.9973 - val_loss: 0.0744 - val_accuracy: 0.9780\n",
            "Epoch 66/100\n",
            "37/37 [==============================] - 0s 3ms/step - loss: 0.0093 - accuracy: 0.9973 - val_loss: 0.0776 - val_accuracy: 0.9780\n",
            "Epoch 67/100\n",
            "37/37 [==============================] - 0s 4ms/step - loss: 0.0086 - accuracy: 0.9973 - val_loss: 0.0771 - val_accuracy: 0.9780\n",
            "Epoch 68/100\n",
            "37/37 [==============================] - 0s 4ms/step - loss: 0.0088 - accuracy: 0.9973 - val_loss: 0.0792 - val_accuracy: 0.9780\n",
            "Epoch 69/100\n",
            "37/37 [==============================] - 0s 3ms/step - loss: 0.0087 - accuracy: 0.9973 - val_loss: 0.0796 - val_accuracy: 0.9780\n",
            "Epoch 70/100\n",
            "37/37 [==============================] - 0s 3ms/step - loss: 0.0079 - accuracy: 0.9973 - val_loss: 0.0788 - val_accuracy: 0.9780\n",
            "Epoch 71/100\n",
            "37/37 [==============================] - 0s 3ms/step - loss: 0.0077 - accuracy: 1.0000 - val_loss: 0.0800 - val_accuracy: 0.9780\n",
            "Epoch 72/100\n",
            "37/37 [==============================] - 0s 3ms/step - loss: 0.0080 - accuracy: 0.9973 - val_loss: 0.0804 - val_accuracy: 0.9780\n",
            "Epoch 73/100\n",
            "37/37 [==============================] - 0s 3ms/step - loss: 0.0072 - accuracy: 1.0000 - val_loss: 0.0809 - val_accuracy: 0.9780\n",
            "Epoch 74/100\n",
            "37/37 [==============================] - 0s 3ms/step - loss: 0.0066 - accuracy: 1.0000 - val_loss: 0.0822 - val_accuracy: 0.9780\n",
            "Epoch 75/100\n",
            "37/37 [==============================] - 0s 3ms/step - loss: 0.0071 - accuracy: 0.9973 - val_loss: 0.0809 - val_accuracy: 0.9780\n",
            "Epoch 76/100\n",
            "37/37 [==============================] - 0s 3ms/step - loss: 0.0065 - accuracy: 1.0000 - val_loss: 0.0829 - val_accuracy: 0.9780\n",
            "Epoch 77/100\n",
            "37/37 [==============================] - 0s 3ms/step - loss: 0.0061 - accuracy: 1.0000 - val_loss: 0.0827 - val_accuracy: 0.9780\n",
            "Epoch 78/100\n",
            "37/37 [==============================] - 0s 4ms/step - loss: 0.0061 - accuracy: 1.0000 - val_loss: 0.0841 - val_accuracy: 0.9780\n",
            "Epoch 79/100\n",
            "37/37 [==============================] - 0s 3ms/step - loss: 0.0063 - accuracy: 0.9973 - val_loss: 0.0836 - val_accuracy: 0.9780\n",
            "Epoch 80/100\n",
            "37/37 [==============================] - 0s 3ms/step - loss: 0.0060 - accuracy: 1.0000 - val_loss: 0.0836 - val_accuracy: 0.9780\n",
            "Epoch 81/100\n",
            "37/37 [==============================] - 0s 3ms/step - loss: 0.0058 - accuracy: 1.0000 - val_loss: 0.0852 - val_accuracy: 0.9780\n",
            "Epoch 82/100\n",
            "37/37 [==============================] - 0s 3ms/step - loss: 0.0054 - accuracy: 1.0000 - val_loss: 0.0850 - val_accuracy: 0.9780\n",
            "Epoch 83/100\n",
            "37/37 [==============================] - 0s 3ms/step - loss: 0.0054 - accuracy: 1.0000 - val_loss: 0.0855 - val_accuracy: 0.9780\n",
            "Epoch 84/100\n",
            "37/37 [==============================] - 0s 4ms/step - loss: 0.0053 - accuracy: 1.0000 - val_loss: 0.0853 - val_accuracy: 0.9780\n",
            "Epoch 85/100\n",
            "37/37 [==============================] - 0s 3ms/step - loss: 0.0049 - accuracy: 1.0000 - val_loss: 0.0860 - val_accuracy: 0.9780\n",
            "Epoch 86/100\n",
            "37/37 [==============================] - 0s 3ms/step - loss: 0.0049 - accuracy: 1.0000 - val_loss: 0.0884 - val_accuracy: 0.9780\n",
            "Epoch 87/100\n",
            "37/37 [==============================] - 0s 3ms/step - loss: 0.0045 - accuracy: 1.0000 - val_loss: 0.0888 - val_accuracy: 0.9780\n",
            "Epoch 88/100\n",
            "37/37 [==============================] - 0s 3ms/step - loss: 0.0043 - accuracy: 1.0000 - val_loss: 0.0897 - val_accuracy: 0.9780\n",
            "Epoch 89/100\n",
            "37/37 [==============================] - 0s 3ms/step - loss: 0.0046 - accuracy: 1.0000 - val_loss: 0.0892 - val_accuracy: 0.9780\n",
            "Epoch 90/100\n",
            "37/37 [==============================] - 0s 3ms/step - loss: 0.0045 - accuracy: 1.0000 - val_loss: 0.0892 - val_accuracy: 0.9780\n",
            "Epoch 91/100\n",
            "37/37 [==============================] - 0s 3ms/step - loss: 0.0041 - accuracy: 1.0000 - val_loss: 0.0912 - val_accuracy: 0.9780\n",
            "Epoch 92/100\n",
            "37/37 [==============================] - 0s 3ms/step - loss: 0.0038 - accuracy: 1.0000 - val_loss: 0.0914 - val_accuracy: 0.9780\n",
            "Epoch 93/100\n",
            "37/37 [==============================] - 0s 3ms/step - loss: 0.0037 - accuracy: 1.0000 - val_loss: 0.0917 - val_accuracy: 0.9780\n",
            "Epoch 94/100\n",
            "37/37 [==============================] - 0s 3ms/step - loss: 0.0036 - accuracy: 1.0000 - val_loss: 0.0925 - val_accuracy: 0.9780\n",
            "Epoch 95/100\n",
            "37/37 [==============================] - 0s 3ms/step - loss: 0.0035 - accuracy: 1.0000 - val_loss: 0.0926 - val_accuracy: 0.9780\n",
            "Epoch 96/100\n",
            "37/37 [==============================] - 0s 3ms/step - loss: 0.0036 - accuracy: 1.0000 - val_loss: 0.0941 - val_accuracy: 0.9780\n",
            "Epoch 97/100\n",
            "37/37 [==============================] - 0s 3ms/step - loss: 0.0033 - accuracy: 1.0000 - val_loss: 0.0954 - val_accuracy: 0.9780\n",
            "Epoch 98/100\n",
            "37/37 [==============================] - 0s 3ms/step - loss: 0.0032 - accuracy: 1.0000 - val_loss: 0.0949 - val_accuracy: 0.9780\n",
            "Epoch 99/100\n",
            "37/37 [==============================] - 0s 3ms/step - loss: 0.0033 - accuracy: 1.0000 - val_loss: 0.0962 - val_accuracy: 0.9780\n",
            "Epoch 100/100\n",
            "37/37 [==============================] - 0s 3ms/step - loss: 0.0029 - accuracy: 1.0000 - val_loss: 0.0981 - val_accuracy: 0.9780\n"
          ]
        }
      ]
    },
    {
      "cell_type": "code",
      "source": [
        "print(model_history.history.keys())"
      ],
      "metadata": {
        "colab": {
          "base_uri": "https://localhost:8080/"
        },
        "id": "WKZhFhcvj-3X",
        "outputId": "f0cb2230-b4e9-4863-f8a4-70a4d46fd363"
      },
      "execution_count": null,
      "outputs": [
        {
          "output_type": "stream",
          "name": "stdout",
          "text": [
            "dict_keys(['loss', 'accuracy', 'val_loss', 'val_accuracy'])\n"
          ]
        }
      ]
    },
    {
      "cell_type": "code",
      "source": [
        "import matplotlib.pyplot as plt\n",
        "plt.plot(model_history.history['accuracy'])\n",
        "plt.plot(model_history.history['val_accuracy'])\n",
        "#plt.plot(model_history.history['loss'])\n",
        "#plt.plot(model_history.history['val_loss'])\n",
        "plt.title('model accuracy')\n",
        "plt.ylabel('accuracy')\n",
        "plt.xlabel('epochs')\n",
        "plt.legend(['train','test'],loc='upper right')\n",
        "plt.show()"
      ],
      "metadata": {
        "colab": {
          "base_uri": "https://localhost:8080/",
          "height": 295
        },
        "id": "Kb5JHessksWW",
        "outputId": "365ff4e5-c0cf-4e17-cce7-676af30dac61"
      },
      "execution_count": null,
      "outputs": [
        {
          "output_type": "display_data",
          "data": {
            "text/plain": [
              "<Figure size 432x288 with 1 Axes>"
            ],
            "image/png": "[encoded data removed]"
          },
          "metadata": {
            "needs_background": "light"
          }
        }
      ]
    },
    {
      "cell_type": "code",
      "source": [
        "def build_model(hp):\n",
        "  model=Sequential()\n",
        "  #model.add(keras.layers.Dense(None,input_dim=30))\n",
        "  # no.of.layers indicate no .of.hidden layers and units indicate no of neurons in each hidden layer\n",
        "  for i in range(hp.Int('no.of.layers',2,20)):\n",
        "    model.add(keras.layers.Dense(units=hp.Int('units_'+str(i),min_value=32,max_value=512,step=32),\n",
        "                                 activation='relu'))\n",
        "  # output layer\n",
        "  model.add(keras.layers.Dense(2,activation='sigmoid'))\n",
        "  model.compile(optimizer='Adam',loss = tf.keras.losses.SparseCategoricalCrossentropy(from_logits=True),metrics=['accuracy'])\n",
        "  return model"
      ],
      "metadata": {
        "id": "KXj51YEErwN8"
      },
      "execution_count": null,
      "outputs": []
    },
    {
      "cell_type": "code",
      "source": [
        "tuner =RandomSearch(\n",
        "    build_model,\n",
        "    objective='val_loss',\n",
        "    max_trials=5,\n",
        "    executions_per_trial=3)"
      ],
      "metadata": {
        "id": "w-uBkkjKukGA"
      },
      "execution_count": null,
      "outputs": []
    },
    {
      "cell_type": "code",
      "source": [
        "tuner.search_space_summary()"
      ],
      "metadata": {
        "colab": {
          "base_uri": "https://localhost:8080/"
        },
        "id": "ZzMHVb7pzQfk",
        "outputId": "ebdc6735-89b3-471f-accf-2ba76e338a34"
      },
      "execution_count": null,
      "outputs": [
        {
          "output_type": "stream",
          "name": "stdout",
          "text": [
            "Search space summary\n",
            "Default search space size: 41\n",
            "no.of.layers (Int)\n",
            "{'default': None, 'conditions': [], 'min_value': 2, 'max_value': 20, 'step': 1, 'sampling': None}\n",
            "units_0 (Int)\n",
            "{'default': None, 'conditions': [], 'min_value': 32, 'max_value': 512, 'step': 32, 'sampling': None}\n",
            "act0 (Choice)\n",
            "{'default': 'relu', 'conditions': [], 'values': ['relu', 'sigmoid'], 'ordered': False}\n",
            "units_1 (Int)\n",
            "{'default': None, 'conditions': [], 'min_value': 32, 'max_value': 512, 'step': 32, 'sampling': None}\n",
            "act1 (Choice)\n",
            "{'default': 'relu', 'conditions': [], 'values': ['relu', 'sigmoid'], 'ordered': False}\n",
            "units_2 (Int)\n",
            "{'default': None, 'conditions': [], 'min_value': 32, 'max_value': 512, 'step': 32, 'sampling': None}\n",
            "act2 (Choice)\n",
            "{'default': 'relu', 'conditions': [], 'values': ['relu', 'sigmoid'], 'ordered': False}\n",
            "units_3 (Int)\n",
            "{'default': None, 'conditions': [], 'min_value': 32, 'max_value': 512, 'step': 32, 'sampling': None}\n",
            "act3 (Choice)\n",
            "{'default': 'relu', 'conditions': [], 'values': ['relu', 'sigmoid'], 'ordered': False}\n",
            "units_4 (Int)\n",
            "{'default': None, 'conditions': [], 'min_value': 32, 'max_value': 512, 'step': 32, 'sampling': None}\n",
            "act4 (Choice)\n",
            "{'default': 'relu', 'conditions': [], 'values': ['relu', 'sigmoid'], 'ordered': False}\n",
            "units_5 (Int)\n",
            "{'default': None, 'conditions': [], 'min_value': 32, 'max_value': 512, 'step': 32, 'sampling': None}\n",
            "act5 (Choice)\n",
            "{'default': 'relu', 'conditions': [], 'values': ['relu', 'sigmoid'], 'ordered': False}\n",
            "units_6 (Int)\n",
            "{'default': None, 'conditions': [], 'min_value': 32, 'max_value': 512, 'step': 32, 'sampling': None}\n",
            "act6 (Choice)\n",
            "{'default': 'relu', 'conditions': [], 'values': ['relu', 'sigmoid'], 'ordered': False}\n",
            "units_7 (Int)\n",
            "{'default': None, 'conditions': [], 'min_value': 32, 'max_value': 512, 'step': 32, 'sampling': None}\n",
            "act7 (Choice)\n",
            "{'default': 'relu', 'conditions': [], 'values': ['relu', 'sigmoid'], 'ordered': False}\n",
            "units_8 (Int)\n",
            "{'default': None, 'conditions': [], 'min_value': 32, 'max_value': 512, 'step': 32, 'sampling': None}\n",
            "act8 (Choice)\n",
            "{'default': 'relu', 'conditions': [], 'values': ['relu', 'sigmoid'], 'ordered': False}\n",
            "units_9 (Int)\n",
            "{'default': None, 'conditions': [], 'min_value': 32, 'max_value': 512, 'step': 32, 'sampling': None}\n",
            "act9 (Choice)\n",
            "{'default': 'relu', 'conditions': [], 'values': ['relu', 'sigmoid'], 'ordered': False}\n",
            "units_10 (Int)\n",
            "{'default': None, 'conditions': [], 'min_value': 32, 'max_value': 512, 'step': 32, 'sampling': None}\n",
            "act10 (Choice)\n",
            "{'default': 'relu', 'conditions': [], 'values': ['relu', 'sigmoid'], 'ordered': False}\n",
            "units_11 (Int)\n",
            "{'default': None, 'conditions': [], 'min_value': 32, 'max_value': 512, 'step': 32, 'sampling': None}\n",
            "act11 (Choice)\n",
            "{'default': 'relu', 'conditions': [], 'values': ['relu', 'sigmoid'], 'ordered': False}\n",
            "units_12 (Int)\n",
            "{'default': None, 'conditions': [], 'min_value': 32, 'max_value': 512, 'step': 32, 'sampling': None}\n",
            "act12 (Choice)\n",
            "{'default': 'relu', 'conditions': [], 'values': ['relu', 'sigmoid'], 'ordered': False}\n",
            "units_13 (Int)\n",
            "{'default': None, 'conditions': [], 'min_value': 32, 'max_value': 512, 'step': 32, 'sampling': None}\n",
            "act13 (Choice)\n",
            "{'default': 'relu', 'conditions': [], 'values': ['relu', 'sigmoid'], 'ordered': False}\n",
            "units_14 (Int)\n",
            "{'default': None, 'conditions': [], 'min_value': 32, 'max_value': 512, 'step': 32, 'sampling': None}\n",
            "act14 (Choice)\n",
            "{'default': 'relu', 'conditions': [], 'values': ['relu', 'sigmoid'], 'ordered': False}\n",
            "units_15 (Int)\n",
            "{'default': None, 'conditions': [], 'min_value': 32, 'max_value': 512, 'step': 32, 'sampling': None}\n",
            "act15 (Choice)\n",
            "{'default': 'relu', 'conditions': [], 'values': ['relu', 'sigmoid'], 'ordered': False}\n",
            "units_16 (Int)\n",
            "{'default': None, 'conditions': [], 'min_value': 32, 'max_value': 512, 'step': 32, 'sampling': None}\n",
            "act16 (Choice)\n",
            "{'default': 'relu', 'conditions': [], 'values': ['relu', 'sigmoid'], 'ordered': False}\n",
            "units_17 (Int)\n",
            "{'default': None, 'conditions': [], 'min_value': 32, 'max_value': 512, 'step': 32, 'sampling': None}\n",
            "act17 (Choice)\n",
            "{'default': 'relu', 'conditions': [], 'values': ['relu', 'sigmoid'], 'ordered': False}\n",
            "units_18 (Int)\n",
            "{'default': None, 'conditions': [], 'min_value': 32, 'max_value': 512, 'step': 32, 'sampling': None}\n",
            "act18 (Choice)\n",
            "{'default': 'relu', 'conditions': [], 'values': ['relu', 'sigmoid'], 'ordered': False}\n",
            "units_19 (Int)\n",
            "{'default': None, 'conditions': [], 'min_value': 32, 'max_value': 512, 'step': 32, 'sampling': None}\n",
            "act19 (Choice)\n",
            "{'default': 'relu', 'conditions': [], 'values': ['relu', 'sigmoid'], 'ordered': False}\n"
          ]
        }
      ]
    },
    {
      "cell_type": "code",
      "source": [
        "tuner.search(X_train,Y_train,epochs=5,validation_data=(X_test,Y_test))\n",
        "best_model = tuner.get_best_models()"
      ],
      "metadata": {
        "colab": {
          "base_uri": "https://localhost:8080/"
        },
        "id": "bCR11AZHu7Cg",
        "outputId": "b10e0af7-4daa-470a-965f-09464e480920"
      },
      "execution_count": null,
      "outputs": [
        {
          "output_type": "stream",
          "name": "stdout",
          "text": [
            "Trial 5 Complete [00h 00m 05s]\n",
            "val_loss: 0.09166199217240016\n",
            "\n",
            "Best val_loss So Far: 0.07442521552244823\n",
            "Total elapsed time: 00h 00m 38s\n",
            "INFO:tensorflow:Oracle triggered exit\n"
          ]
        }
      ]
    },
    {
      "cell_type": "code",
      "source": [
        "import matplotlib.pyplot as plt\n",
        "plt.plot(model_history.history['accuracy'])\n",
        "plt.plot(model_history.history['val_accuracy'])\n",
        "#plt.plot(model_history.history['loss'])\n",
        "#plt.plot(model_history.history['val_loss'])\n",
        "plt.title('model accuracy')\n",
        "plt.ylabel('accuracy')\n",
        "plt.xlabel('epochs')\n",
        "plt.legend(['train','test'],loc='upper right')\n",
        "plt.show()"
      ],
      "metadata": {
        "colab": {
          "base_uri": "https://localhost:8080/",
          "height": 295
        },
        "id": "qSe4ifUk3mxs",
        "outputId": "07d6989a-3f2a-4825-87e2-d359e16f0aaf"
      },
      "execution_count": null,
      "outputs": [
        {
          "output_type": "display_data",
          "data": {
            "text/plain": [
              "<Figure size 432x288 with 1 Axes>"
            ],
            "image/png": "[encoded data removed]"
          },
          "metadata": {
            "needs_background": "light"
          }
        }
      ]
    },
    {
      "cell_type": "code",
      "source": [
        "tuner.results_summary()"
      ],
      "metadata": {
        "colab": {
          "base_uri": "https://localhost:8080/"
        },
        "id": "afYv7rcozjXh",
        "outputId": "652f642d-7e07-44c1-fa40-ac97a09e0d8b"
      },
      "execution_count": null,
      "outputs": [
        {
          "output_type": "stream",
          "name": "stdout",
          "text": [
            "Results summary\n",
            "Results in ./untitled_project\n",
            "Showing 10 best trials\n",
            "<keras_tuner.engine.objective.Objective object at 0x7f11b8e12a50>\n",
            "Trial summary\n",
            "Hyperparameters:\n",
            "no.of.layers: 10\n",
            "units_0: 320\n",
            "units_1: 192\n",
            "units_2: 448\n",
            "units_3: 448\n",
            "units_4: 384\n",
            "units_5: 320\n",
            "units_6: 384\n",
            "units_7: 64\n",
            "units_8: 416\n",
            "units_9: 192\n",
            "units_10: 224\n",
            "units_11: 32\n",
            "units_12: 192\n",
            "units_13: 448\n",
            "units_14: 352\n",
            "units_15: 480\n",
            "units_16: 128\n",
            "units_17: 192\n",
            "Score: 0.07442521552244823\n",
            "Trial summary\n",
            "Hyperparameters:\n",
            "no.of.layers: 3\n",
            "units_0: 160\n",
            "units_1: 448\n",
            "units_2: 384\n",
            "units_3: 384\n",
            "units_4: 192\n",
            "units_5: 416\n",
            "units_6: 128\n",
            "units_7: 96\n",
            "units_8: 224\n",
            "units_9: 416\n",
            "units_10: 416\n",
            "units_11: 224\n",
            "units_12: 96\n",
            "units_13: 192\n",
            "units_14: 64\n",
            "units_15: 32\n",
            "units_16: 512\n",
            "units_17: 192\n",
            "units_18: 320\n",
            "Score: 0.08280072609583537\n",
            "Trial summary\n",
            "Hyperparameters:\n",
            "no.of.layers: 5\n",
            "units_0: 224\n",
            "units_1: 128\n",
            "units_2: 480\n",
            "units_3: 448\n",
            "units_4: 224\n",
            "units_5: 384\n",
            "units_6: 32\n",
            "units_7: 192\n",
            "units_8: 160\n",
            "units_9: 96\n",
            "units_10: 96\n",
            "units_11: 96\n",
            "units_12: 128\n",
            "units_13: 320\n",
            "units_14: 256\n",
            "units_15: 64\n",
            "units_16: 256\n",
            "units_17: 320\n",
            "units_18: 128\n",
            "Score: 0.09166199217240016\n",
            "Trial summary\n",
            "Hyperparameters:\n",
            "no.of.layers: 19\n",
            "units_0: 256\n",
            "units_1: 64\n",
            "units_2: 256\n",
            "units_3: 384\n",
            "units_4: 512\n",
            "units_5: 256\n",
            "units_6: 64\n",
            "units_7: 320\n",
            "units_8: 96\n",
            "units_9: 288\n",
            "units_10: 480\n",
            "units_11: 160\n",
            "units_12: 160\n",
            "units_13: 416\n",
            "units_14: 224\n",
            "units_15: 64\n",
            "units_16: 288\n",
            "units_17: 32\n",
            "units_18: 32\n",
            "Score: 0.10984551161527634\n",
            "Trial summary\n",
            "Hyperparameters:\n",
            "no.of.layers: 18\n",
            "units_0: 480\n",
            "units_1: 96\n",
            "units_2: 32\n",
            "units_3: 32\n",
            "units_4: 32\n",
            "units_5: 32\n",
            "units_6: 32\n",
            "units_7: 32\n",
            "units_8: 32\n",
            "units_9: 32\n",
            "units_10: 32\n",
            "units_11: 32\n",
            "units_12: 32\n",
            "units_13: 32\n",
            "units_14: 32\n",
            "units_15: 32\n",
            "units_16: 32\n",
            "units_17: 32\n",
            "Score: 0.16740583380063376\n"
          ]
        }
      ]
    }
  ]
}